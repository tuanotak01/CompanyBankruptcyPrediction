{
 "cells": [
  {
   "cell_type": "code",
   "execution_count": null,
   "metadata": {},
   "outputs": [],
   "source": [
    "%pip install pandas\n",
    "%pip install numpy\n",
    "%pip install sklearn"
   ]
  },
  {
   "cell_type": "code",
   "execution_count": null,
   "metadata": {},
   "outputs": [],
   "source": [
    "import pandas as pd\n",
    "import numpy as np\n",
    "from sklearn.tree import DecisionTreeClassifier\n",
    "from sklearn.metrics import confusion_matrix, accuracy_score\n",
    "from sklearn.metrics import classification_report, log_loss\n",
    "from sklearn.model_selection import train_test_split"
   ]
  },
  {
   "cell_type": "code",
   "execution_count": null,
   "metadata": {},
   "outputs": [],
   "source": [
    "data = pd.read_csv('train.csv', low_memory=False, index_col='id')\n",
    "data.head()"
   ]
  },
  {
   "cell_type": "code",
   "execution_count": null,
   "metadata": {},
   "outputs": [],
   "source": [
    "features = ['current_assets_over_short_term_liabilities', 'EBIT_over_total_assets', 'net_profit_over_total_assets', 'short_term_liabilities_over_total_assets', 'working_capital_over_total_assets', 'class']"
   ]
  },
  {
   "cell_type": "code",
   "execution_count": null,
   "metadata": {},
   "outputs": [],
   "source": [
    "datasets = data[features]\n",
    "datasets.shape"
   ]
  },
  {
   "cell_type": "markdown",
   "metadata": {},
   "source": [
    "#Remove all missing data from datasets"
   ]
  },
  {
   "cell_type": "code",
   "execution_count": null,
   "metadata": {},
   "outputs": [],
   "source": [
    "for col in features:\n",
    "    datasets.drop(datasets.loc[datasets[col] == '?'].index, inplace=True)\n",
    "    # print(datasets.loc[datasets[col] == '?'].index)"
   ]
  },
  {
   "cell_type": "code",
   "execution_count": null,
   "metadata": {},
   "outputs": [],
   "source": [
    "datasets.shape"
   ]
  },
  {
   "cell_type": "code",
   "execution_count": null,
   "metadata": {},
   "outputs": [],
   "source": [
    "#y must be -1, 1"
   ]
  },
  {
   "cell_type": "code",
   "execution_count": null,
   "metadata": {},
   "outputs": [],
   "source": [
    "y = datasets['class'].values\n",
    "y[y == 0] = -1\n",
    "features.pop() #remove class\n",
    "X = datasets[features].values"
   ]
  },
  {
   "cell_type": "code",
   "execution_count": null,
   "metadata": {},
   "outputs": [],
   "source": [
    "X_train, X_val, y_train, y_val = train_test_split(X, y, test_size=0.2, random_state=102)\n",
    "print('Training set:', X_train.shape, y_train.shape)\n",
    "print('Val set:', X_val.shape, y_val.shape)"
   ]
  },
  {
   "cell_type": "code",
   "execution_count": null,
   "metadata": {},
   "outputs": [],
   "source": [
    "def check(y):\n",
    "    assert set(y) == {-1,1}\n",
    "    return y"
   ]
  },
  {
   "cell_type": "code",
   "execution_count": null,
   "metadata": {},
   "outputs": [],
   "source": [
    "def init_model(iters, X):\n",
    "    n = X.shape[0]\n",
    "    sample_weights = np.zeros((iters, n))\n",
    "    stumps = np.zeros(iters, dtype= object)\n",
    "    stump_weights = np.zeros(iters)\n",
    "    errors = np.zeros(iters)\n",
    "    return stumps, stump_weights, sample_weights, errors"
   ]
  },
  {
   "cell_type": "code",
   "execution_count": null,
   "metadata": {},
   "outputs": [],
   "source": [
    "def AdaBoostClf(X, y, iters= 10):\n",
    "    n = X.shape[0]\n",
    "    # Check y\n",
    "    y = check(y)\n",
    "    # Initialize\n",
    "    stumps, stump_weights, sample_weights, errors = init_model(iters= iters, X= X)\n",
    "\n",
    "    # First weight = 1/n\n",
    "    sample_weights[0] = np.ones(shape= n) / n\n",
    "\n",
    "    for i in range(iters):\n",
    "        # Fit for stump: weak learner\n",
    "        current_sew = sample_weights[i]\n",
    "        stump = DecisionTreeClassifier(max_depth= 1, max_leaf_nodes= 2)\n",
    "        stump = stump.fit(X, y, sample_weight= current_sew)\n",
    "\n",
    "        # Calculate error\n",
    "        stump_pred = stump.predict(X)\n",
    "        error = current_sew[stump_pred != y].sum()\n",
    "        stump_weight = np.log((1 - error) / error) / 2\n",
    "\n",
    "        # New sample weight\n",
    "        new_sew = current_sew * np.exp(-1 * stump_weight * y * stump_pred)\n",
    "\n",
    "        # Renormalize weights\n",
    "        new_sew = new_sew / new_sew.sum()\n",
    "\n",
    "        # If not last iter, update sample weights for i+1\n",
    "        if (i + 1) < iters:\n",
    "            sample_weights[i+1] = new_sew\n",
    "\n",
    "        # Save result\n",
    "        errors[i] = error\n",
    "        stumps[i] = stump\n",
    "        stump_weights[i] = stump_weight\n",
    "\n",
    "    return stumps, stump_weights, sample_weights\n"
   ]
  },
  {
   "cell_type": "code",
   "execution_count": null,
   "metadata": {},
   "outputs": [],
   "source": [
    "def predict(X, stumps, stump_weights):\n",
    "    stump_preds = np.array([stump.predict(X) for stump in stumps])\n",
    "    return np.sign(np.dot(stump_weights, stump_preds))"
   ]
  },
  {
   "cell_type": "code",
   "execution_count": null,
   "metadata": {},
   "outputs": [],
   "source": [
    "# Training\n",
    "stumps1, stump_weights1, sample_weights1 = AdaBoostClf(X= X_train, y= y_train.reshape(-1), iters= 10)\n",
    "predt = predict(X_val, stumps1, stump_weights1)\n"
   ]
  },
  {
   "cell_type": "code",
   "execution_count": null,
   "metadata": {},
   "outputs": [],
   "source": [
    "# Show metrics\n",
    "print(\"Accuracy score: %f\" % accuracy_score(y_val, predt))\n",
    "print(\"Confusion Matrix:\")\n",
    "print(confusion_matrix(y_val, predt))\n",
    "print(classification_report(y_val, predt))\n",
    "print('Log loss:', log_loss(y_val, predt)/len(y_val))"
   ]
  }
 ],
 "metadata": {
  "interpreter": {
   "hash": "916dbcbb3f70747c44a77c7bcd40155683ae19c65e1c03b4aa3499c5328201f1"
  },
  "kernelspec": {
   "display_name": "Python 3.10.4 64-bit",
   "language": "python",
   "name": "python3"
  },
  "language_info": {
   "codemirror_mode": {
    "name": "ipython",
    "version": 3
   },
   "file_extension": ".py",
   "mimetype": "text/x-python",
   "name": "python",
   "nbconvert_exporter": "python",
   "pygments_lexer": "ipython3",
   "version": "3.10.4"
  },
  "orig_nbformat": 4
 },
 "nbformat": 4,
 "nbformat_minor": 2
}
